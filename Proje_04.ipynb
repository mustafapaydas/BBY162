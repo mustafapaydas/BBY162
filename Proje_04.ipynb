{
  "nbformat": 4,
  "nbformat_minor": 0,
  "metadata": {
    "colab": {
      "name": "Proje_04.ipynb",
      "provenance": [],
      "collapsed_sections": [],
      "authorship_tag": "ABX9TyPTk1/Oug19qOQ2pLNarR1l",
      "include_colab_link": true
    },
    "kernelspec": {
      "name": "python3",
      "display_name": "Python 3"
    }
  },
  "cells": [
    {
      "cell_type": "markdown",
      "metadata": {
        "id": "view-in-github",
        "colab_type": "text"
      },
      "source": [
        "<a href=\"https://colab.research.google.com/github/mustafapaydas/BBY162/blob/master/Proje_04.ipynb\" target=\"_parent\"><img src=\"https://colab.research.google.com/assets/colab-badge.svg\" alt=\"Open In Colab\"/></a>"
      ]
    },
    {
      "cell_type": "code",
      "metadata": {
        "colab": {
          "base_uri": "https://localhost:8080/"
        },
        "id": "AOLBiStwu0B5",
        "outputId": "68328fe7-c8f9-4258-c80a-75217b55b57c"
      },
      "source": [
        "girdi = input(\"Şifrelenecek Cümleyi Giriniz: \")\n",
        "with open(\"sifrelenecekler.txt\",\"w\",encoding=\"utf-8\") as myfile:\n",
        "  myfile.write(girdi)"
      ],
      "execution_count": null,
      "outputs": [
        {
          "output_type": "stream",
          "text": [
            "Şifrelenecek Cümleyi Giriniz: dünya yuvarlak\n"
          ],
          "name": "stdout"
        }
      ]
    },
    {
      "cell_type": "code",
      "metadata": {
        "id": "pc03OkONumqB"
      },
      "source": [
        "import string\n",
        "talfabe = string.printable\n",
        "alfabe = [\"ç\", \"ğ\", \"ı\", \"ö\", \"ş\", \"ü\", \"Ç\", \"Ğ\", \"İ\", \"Ö\", \"Ş\", \"Ü\"]\n",
        "for i in talfabe:\n",
        "    alfabe.append(i)"
      ],
      "execution_count": null,
      "outputs": []
    },
    {
      "cell_type": "code",
      "metadata": {
        "colab": {
          "base_uri": "https://localhost:8080/"
        },
        "id": "qu_i4c-wurJq",
        "outputId": "99f817db-9eb6-4a44-f82f-0b1ec001367d"
      },
      "source": [
        "anahtar = 6\n",
        "cumle =\"\"\n",
        "oku = open(\"sifrelenecekler.txt\",encoding=\"utf-8\")\n",
        "\n",
        "with open(\"Şifreli Metin.txt\",\"w\",encoding=\"utf-8\") as sifrelim:\n",
        "    print(sifrelim)\n",
        "sifrelim = open(\"Şifreli Metin.txt\",\"w\",encoding=\"utf-8\")\n",
        "\n",
        "for n in oku.read():\n",
        "    cumle += alfabe[(alfabe.index(n) + anahtar) % len(alfabe)]\n",
        "sifrelim.write(cumle)\n",
        "sifrelim.seek(0)\n",
        "print(cumle)"
      ],
      "execution_count": null,
      "outputs": [
        {
          "output_type": "stream",
          "text": [
            "<_io.TextIOWrapper name='Şifreli Metin.txt' mode='w' encoding='utf-8'>\n",
            "jÜtEgçEABgxrgq\n"
          ],
          "name": "stdout"
        }
      ]
    },
    {
      "cell_type": "code",
      "metadata": {
        "colab": {
          "base_uri": "https://localhost:8080/"
        },
        "id": "JGCSbCeZvg_c",
        "outputId": "5bcff98e-3536-4164-e3da-9c04e66dd594"
      },
      "source": [
        "oku1= open(\"Şifreli Metin.txt\",\"r\",encoding=\"utf-8\")\n",
        "sifresizCumle =\"\"\n",
        "for z in oku1.read():\n",
        "    sifresizCumle += alfabe[(alfabe.index(z) - anahtar)%len(alfabe)]\n",
        "print(sifresizCumle)"
      ],
      "execution_count": null,
      "outputs": [
        {
          "output_type": "stream",
          "text": [
            "dünya yuvarlak\n"
          ],
          "name": "stdout"
        }
      ]
    },
    {
      "cell_type": "code",
      "metadata": {
        "colab": {
          "base_uri": "https://localhost:8080/"
        },
        "id": "CkdIhqj0vldF",
        "outputId": "288d28da-6091-4c0b-c75a-45464c7ee2f1"
      },
      "source": [
        "key = 0\n",
        "liste = []\n",
        "satirokut=open(\"Şifreli Metin.txt\",\"r\",encoding=\"utf-8\")\n",
        "okutt = satirokut.read()\n",
        "with open(\"Sezar Şifresinden Çıkanlar.txt\",\"w\",encoding=\"utf-8\")as sezarcik:\n",
        "  print(sezarcik)\n",
        "eklesezar = open(\"Sezar Şifresinden Çıkanlar.txt\",\"a\",encoding=\"utf-8\")\n",
        "for x in range(len(alfabe)):\n",
        "  key += 1\n",
        "  sifrekir =\"\"\n",
        "  for c in okutt:\n",
        "    sifrekir += alfabe[(alfabe.index(c) - key) %len (alfabe)]\n",
        "  listem = cumle.split()\n",
        "\n",
        "  for i in listem:\n",
        "        liste.append(i)\n",
        "  \n",
        "  for yep in sifrekir:\n",
        "    if \" \" == yep:\n",
        "        print(\"Cümlemiz: \",sifrekir)\n",
        "    elif \"\\n\" != yep:\n",
        "        for ce in oku:\n",
        "            if ce.find(cumle) != -1:\n",
        "                print(\"Kelimem: \",sifrekir)\n",
        "      \n",
        "      \n",
        "                "
      ],
      "execution_count": null,
      "outputs": [
        {
          "output_type": "stream",
          "text": [
            "<_io.TextIOWrapper name='Sezar Şifresinden Çıkanlar.txt' mode='w' encoding='utf-8'>\n",
            "Cümlemiz:  dünya yuvarlak\n",
            "Cümlemiz:  2 cnÜ@njkÜgaÜ9\n",
            "Cümlemiz:  \r:Ğ6 %623 Üü ş\n",
            "Cümlemiz:  \r:Ğ6 %623 Üü ş\n",
            "Cümlemiz:  \r:Ğ6 %623 Üü ş\n",
            "Cümlemiz:   -ş3|\"3Ü0|İı|ğ\n",
            "Cümlemiz:  ^&\rİ[Uİşü[ğ\t[ \n",
            "Cümlemiz:  ]%\n",
            "Ğ@TĞöş@ç @~\n",
            "Cümlemiz:  [# ü>Rüğı>\u000b}>|\n",
            "Cümlemiz:  =Y{ğ:Nğ\r\u000b: _:^\n",
            "Cümlemiz:  :V^\u000b-K\u000b \t-|\\-[\n",
            "Cümlemiz:  /U]\r,J\r~ ,{[,@\n",
            "Cümlemiz:  ,R@ )G {|)^>)=\n",
            "Cümlemiz:  ,R@ )G {|)^>)=\n"
          ],
          "name": "stdout"
        }
      ]
    }
  ]
}